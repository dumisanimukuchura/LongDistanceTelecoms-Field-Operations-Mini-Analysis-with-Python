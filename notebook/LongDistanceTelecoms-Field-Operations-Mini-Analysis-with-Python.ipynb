{
 "cells": [
  {
   "cell_type": "markdown",
   "id": "b685cb9e-8182-4416-98df-8768ce9d0636",
   "metadata": {},
   "source": [
    "## LongDistanceTelecoms-Field-Operations-Mini-Analysis-with-Python by Dumisani Maxwell Mukuchura\n",
    "\n",
    "#### Dataset Source: Available on GitHub in the same Repo this Project is Hosted\n",
    "#### Contact: dumisanimukuchura@gmail.com \n",
    "#### LinkedIn: https://www.linkedin.com/in/dumisani-maxwell-mukuchura-4859b7170/ \n",
    "\n",
    "#### A quick but impactful EDA of a 6-row dataset from a fictional telecom company.\n",
    "\n",
    "**Disclaimer:** This is a demonstration of analytical thought process on a very small dataset. Any derived insights would require a significantly larger and more representative dataset for validation in a real-world scenario.\n"
   ]
  },
  {
   "cell_type": "markdown",
   "id": "7f795ff2-0528-46a3-8385-75a7ffe7ff50",
   "metadata": {},
   "source": [
    "### 1. Libraries and Data Importation "
   ]
  },
  {
   "cell_type": "code",
   "execution_count": 4,
   "id": "eb265a91-718d-4b66-90da-b8099d95f967",
   "metadata": {},
   "outputs": [],
   "source": [
    "#Libraries Imported\n",
    "\n",
    "import os\n",
    "\n",
    "import pandas as pd\n",
    "import matplotlib.pyplot as plt\n",
    "import seaborn as sns\n",
    "import numpy as np"
   ]
  },
  {
   "cell_type": "code",
   "execution_count": 63,
   "id": "eb807016-cfab-49c7-b22b-3ceffc3f76db",
   "metadata": {},
   "outputs": [
    {
     "data": {
      "text/html": [
       "<div>\n",
       "<style scoped>\n",
       "    .dataframe tbody tr th:only-of-type {\n",
       "        vertical-align: middle;\n",
       "    }\n",
       "\n",
       "    .dataframe tbody tr th {\n",
       "        vertical-align: top;\n",
       "    }\n",
       "\n",
       "    .dataframe thead th {\n",
       "        text-align: right;\n",
       "    }\n",
       "</style>\n",
       "<table border=\"1\" class=\"dataframe\">\n",
       "  <thead>\n",
       "    <tr style=\"text-align: right;\">\n",
       "      <th></th>\n",
       "      <th>Technician_Name</th>\n",
       "      <th>Age</th>\n",
       "      <th>Gender</th>\n",
       "      <th>Education_Level</th>\n",
       "      <th>Years_Experience</th>\n",
       "      <th>Region</th>\n",
       "      <th>Work_Type</th>\n",
       "      <th>Duration_Hrs</th>\n",
       "      <th>Tasks_Completed</th>\n",
       "      <th>Faults_Resolved</th>\n",
       "      <th>Equipment_Used</th>\n",
       "      <th>Site_Type</th>\n",
       "      <th>Issue_Escalated</th>\n",
       "      <th>Customer_Satisfaction</th>\n",
       "    </tr>\n",
       "    <tr>\n",
       "      <th>Work_ID</th>\n",
       "      <th></th>\n",
       "      <th></th>\n",
       "      <th></th>\n",
       "      <th></th>\n",
       "      <th></th>\n",
       "      <th></th>\n",
       "      <th></th>\n",
       "      <th></th>\n",
       "      <th></th>\n",
       "      <th></th>\n",
       "      <th></th>\n",
       "      <th></th>\n",
       "      <th></th>\n",
       "      <th></th>\n",
       "    </tr>\n",
       "  </thead>\n",
       "  <tbody>\n",
       "    <tr>\n",
       "      <th>W001</th>\n",
       "      <td>Sophia Matthews</td>\n",
       "      <td>29</td>\n",
       "      <td>F</td>\n",
       "      <td>Diploma</td>\n",
       "      <td>5</td>\n",
       "      <td>Harare</td>\n",
       "      <td>Fiber Installation</td>\n",
       "      <td>5.0</td>\n",
       "      <td>3</td>\n",
       "      <td>2</td>\n",
       "      <td>Splicer, OTDR</td>\n",
       "      <td>Urban</td>\n",
       "      <td>No</td>\n",
       "      <td>4.5</td>\n",
       "    </tr>\n",
       "    <tr>\n",
       "      <th>W002</th>\n",
       "      <td>Liam Nkosi</td>\n",
       "      <td>32</td>\n",
       "      <td>M</td>\n",
       "      <td>BSc</td>\n",
       "      <td>8</td>\n",
       "      <td>Bulawayo</td>\n",
       "      <td>Base Station Repair</td>\n",
       "      <td>7.5</td>\n",
       "      <td>5</td>\n",
       "      <td>4</td>\n",
       "      <td>Multimeter, Analyzer</td>\n",
       "      <td>Rural</td>\n",
       "      <td>Yes</td>\n",
       "      <td>3.0</td>\n",
       "    </tr>\n",
       "    <tr>\n",
       "      <th>W003</th>\n",
       "      <td>Isabella Chikosi</td>\n",
       "      <td>27</td>\n",
       "      <td>F</td>\n",
       "      <td>BSc</td>\n",
       "      <td>4</td>\n",
       "      <td>Gweru</td>\n",
       "      <td>Router Config</td>\n",
       "      <td>3.0</td>\n",
       "      <td>2</td>\n",
       "      <td>2</td>\n",
       "      <td>Laptop, Patch Cords</td>\n",
       "      <td>Urban</td>\n",
       "      <td>No</td>\n",
       "      <td>5.0</td>\n",
       "    </tr>\n",
       "    <tr>\n",
       "      <th>W004</th>\n",
       "      <td>Noah Banda</td>\n",
       "      <td>35</td>\n",
       "      <td>M</td>\n",
       "      <td>Diploma</td>\n",
       "      <td>10</td>\n",
       "      <td>Mutare</td>\n",
       "      <td>Signal Testing</td>\n",
       "      <td>6.5</td>\n",
       "      <td>4</td>\n",
       "      <td>3</td>\n",
       "      <td>Spectrum Analyzer</td>\n",
       "      <td>Rural</td>\n",
       "      <td>Yes</td>\n",
       "      <td>2.5</td>\n",
       "    </tr>\n",
       "    <tr>\n",
       "      <th>W005</th>\n",
       "      <td>Ava Moyo</td>\n",
       "      <td>31</td>\n",
       "      <td>F</td>\n",
       "      <td>BSc</td>\n",
       "      <td>6</td>\n",
       "      <td>Harare</td>\n",
       "      <td>Fiber Maintenance</td>\n",
       "      <td>4.5</td>\n",
       "      <td>3</td>\n",
       "      <td>3</td>\n",
       "      <td>OTDR, Power Meter</td>\n",
       "      <td>Urban</td>\n",
       "      <td>No</td>\n",
       "      <td>4.0</td>\n",
       "    </tr>\n",
       "    <tr>\n",
       "      <th>W006</th>\n",
       "      <td>Ethan Sibanda</td>\n",
       "      <td>28</td>\n",
       "      <td>M</td>\n",
       "      <td>Diploma</td>\n",
       "      <td>7</td>\n",
       "      <td>Masvingo</td>\n",
       "      <td>Base Station Repair</td>\n",
       "      <td>8.0</td>\n",
       "      <td>6</td>\n",
       "      <td>5</td>\n",
       "      <td>Signal Tester</td>\n",
       "      <td>Rural</td>\n",
       "      <td>Yes</td>\n",
       "      <td>3.5</td>\n",
       "    </tr>\n",
       "  </tbody>\n",
       "</table>\n",
       "</div>"
      ],
      "text/plain": [
       "           Technician_Name  Age Gender Education_Level  Years_Experience  \\\n",
       "Work_ID                                                                    \n",
       "W001      Sophia Matthews    29      F         Diploma                 5   \n",
       "W002           Liam Nkosi    32      M             BSc                 8   \n",
       "W003     Isabella Chikosi    27      F             BSc                 4   \n",
       "W004           Noah Banda    35      M         Diploma                10   \n",
       "W005             Ava Moyo    31      F             BSc                 6   \n",
       "W006         Ethan Sibanda   28      M         Diploma                 7   \n",
       "\n",
       "           Region            Work_Type  Duration_Hrs  Tasks_Completed  \\\n",
       "Work_ID                                                                 \n",
       "W001       Harare   Fiber Installation           5.0                3   \n",
       "W002     Bulawayo  Base Station Repair           7.5                5   \n",
       "W003        Gweru        Router Config           3.0                2   \n",
       "W004       Mutare       Signal Testing           6.5                4   \n",
       "W005       Harare    Fiber Maintenance           4.5                3   \n",
       "W006     Masvingo  Base Station Repair           8.0                6   \n",
       "\n",
       "         Faults_Resolved        Equipment_Used Site_Type Issue_Escalated  \\\n",
       "Work_ID                                                                    \n",
       "W001                   2         Splicer, OTDR     Urban              No   \n",
       "W002                   4  Multimeter, Analyzer     Rural             Yes   \n",
       "W003                   2   Laptop, Patch Cords     Urban              No   \n",
       "W004                   3     Spectrum Analyzer     Rural             Yes   \n",
       "W005                   3     OTDR, Power Meter     Urban              No   \n",
       "W006                   5         Signal Tester     Rural             Yes   \n",
       "\n",
       "         Customer_Satisfaction  \n",
       "Work_ID                         \n",
       "W001                       4.5  \n",
       "W002                       3.0  \n",
       "W003                       5.0  \n",
       "W004                       2.5  \n",
       "W005                       4.0  \n",
       "W006                       3.5  "
      ]
     },
     "execution_count": 63,
     "metadata": {},
     "output_type": "execute_result"
    }
   ],
   "source": [
    "# Get the current working directory\n",
    "current_dir = os.getcwd()\n",
    "\n",
    "# Trim to one level above\n",
    "base_dir = os.path.dirname(current_dir)\n",
    "\n",
    "# Construct the path to the data folder\n",
    "data_dir = os.path.join(base_dir, \"data\")\n",
    "\n",
    "# Construct the full path to the CSV file\n",
    "csv_file_path = os.path.join(data_dir, \"telecom_field_operations.csv\")\n",
    "\n",
    "#Import File into DataFrame\n",
    "df = pd.read_csv(csv_file_path, index_col=\"Work_ID\")\n",
    "\n",
    "#View the first 6 rows of the DataFrame (knowing it has 6 rows)\n",
    "df.head(6)"
   ]
  },
  {
   "cell_type": "code",
   "execution_count": 10,
   "id": "6d6727f8-e280-49d5-be6f-4748bce20fc7",
   "metadata": {},
   "outputs": [
    {
     "name": "stdout",
     "output_type": "stream",
     "text": [
      "(6, 14)\n",
      "<class 'pandas.core.frame.DataFrame'>\n",
      "Index: 6 entries, W001 to W006\n",
      "Data columns (total 14 columns):\n",
      " #   Column                 Non-Null Count  Dtype  \n",
      "---  ------                 --------------  -----  \n",
      " 0   Technician_Name        6 non-null      object \n",
      " 1   Age                    6 non-null      int64  \n",
      " 2   Gender                 6 non-null      object \n",
      " 3   Education_Level        6 non-null      object \n",
      " 4   Years_Experience       6 non-null      int64  \n",
      " 5   Region                 6 non-null      object \n",
      " 6   Work_Type              6 non-null      object \n",
      " 7   Duration_Hrs           6 non-null      float64\n",
      " 8   Tasks_Completed        6 non-null      int64  \n",
      " 9   Faults_Resolved        6 non-null      int64  \n",
      " 10  Equipment_Used         6 non-null      object \n",
      " 11  Site_Type              6 non-null      object \n",
      " 12  Issue_Escalated        6 non-null      object \n",
      " 13  Customer_Satisfaction  6 non-null      float64\n",
      "dtypes: float64(2), int64(4), object(8)\n",
      "memory usage: 720.0+ bytes\n"
     ]
    }
   ],
   "source": [
    "#View DataFrame Information and Descriptions\n",
    "print(df.shape)\n",
    "df.info()"
   ]
  },
  {
   "cell_type": "markdown",
   "id": "6870eea8-2933-4a98-8778-3a1a07a54027",
   "metadata": {},
   "source": [
    "- From the view we can not we have 6 rows and 14 columns without any missing values and designated Work_ID index"
   ]
  },
  {
   "cell_type": "markdown",
   "id": "45685499-1494-4b68-8097-e78722bd072d",
   "metadata": {},
   "source": [
    "### 2. SECTION A - Descriptive Summary"
   ]
  },
  {
   "cell_type": "markdown",
   "id": "85a4f623-e745-4b69-ac1f-dc6e4a9e6ef7",
   "metadata": {},
   "source": [
    "#### Q1: What is the average customer satisfaction rating across all technicians?"
   ]
  },
  {
   "cell_type": "code",
   "execution_count": 14,
   "id": "6931199c-d44d-4c31-93de-64b7d0b89fda",
   "metadata": {},
   "outputs": [
    {
     "name": "stdout",
     "output_type": "stream",
     "text": [
      "Customer_Satisfaction_Average: 3.75 out of 5\n"
     ]
    }
   ],
   "source": [
    "Customer_Satisfaction_Average = df['Customer_Satisfaction'].mean()\n",
    "print(f\"Customer_Satisfaction_Average: {Customer_Satisfaction_Average} out of 5\")"
   ]
  },
  {
   "cell_type": "code",
   "execution_count": 39,
   "id": "292ff9f0-282f-4cca-8101-13ec5108aa58",
   "metadata": {},
   "outputs": [
    {
     "data": {
      "image/png": "[encoded data removed]",
      "text/plain": [
       "<Figure size 500x500 with 1 Axes>"
      ]
     },
     "metadata": {},
     "output_type": "display_data"
    }
   ],
   "source": [
    "# Define satisfaction breakdown\n",
    "satisfaction_filled = Customer_Satisfaction_Average  # Portion representing the actual score\n",
    "satisfaction_remaining = 5 - Customer_Satisfaction_Average  # Portion representing the missing part\n",
    "\n",
    "# Labels and values\n",
    "labels = ['Average Satisfaction', 'Remaining']\n",
    "sizes = [satisfaction_filled, satisfaction_remaining]\n",
    "colors = ['royalblue', 'orange']\n",
    "\n",
    "# Create the pie chart\n",
    "plt.figure(figsize=(5, 5))\n",
    "plt.pie(sizes, labels=labels, autopct='%1.1f%%', colors=colors, startangle=90, wedgeprops={'edgecolor': 'black'})\n",
    "plt.title('Customer Satisfaction Score Out of 5')\n",
    "plt.show()"
   ]
  },
  {
   "cell_type": "markdown",
   "id": "91e8991d-cda7-4e4d-bba7-771f47d275d7",
   "metadata": {},
   "source": [
    "#### Q2: What is the distribution (count) of technicians by education level?"
   ]
  },
  {
   "cell_type": "code",
   "execution_count": 16,
   "id": "b9276f65-e55f-40bf-9f3c-a7676e5761d8",
   "metadata": {},
   "outputs": [
    {
     "name": "stdout",
     "output_type": "stream",
     "text": [
      "Distribution of technicians by education level:\n",
      "Education_Level\n",
      "Diploma    3\n",
      "BSc        3 \n",
      "\n"
     ]
    }
   ],
   "source": [
    "education_dist = df['Education_Level'].value_counts()\n",
    "print(\"Distribution of technicians by education level:\")\n",
    "print(education_dist.to_string(), \"\\n\")"
   ]
  },
  {
   "cell_type": "markdown",
   "id": "05e2a148-0b2b-40eb-9af5-95accd992509",
   "metadata": {},
   "source": [
    "#### Q3: What is the average duration of work by gender?"
   ]
  },
  {
   "cell_type": "code",
   "execution_count": 19,
   "id": "a84c450d-e558-4399-b04a-5af62f577dc7",
   "metadata": {},
   "outputs": [
    {
     "name": "stdout",
     "output_type": "stream",
     "text": [
      "Average duration of work by gender:\n",
      "Gender\n",
      "F    4.166667\n",
      "M    7.333333 \n",
      "\n"
     ]
    }
   ],
   "source": [
    "avg_duration_gender = df.groupby('Gender')['Duration_Hrs'].mean()\n",
    "print(\"Average duration of work by gender:\")\n",
    "print(avg_duration_gender.to_string(), \"\\n\")"
   ]
  },
  {
   "cell_type": "markdown",
   "id": "541082e2-a483-4110-bb6c-d90cc0802961",
   "metadata": {},
   "source": [
    "- Male Technicians have a higher average duration of work as compared to Female Technicians."
   ]
  },
  {
   "cell_type": "markdown",
   "id": "3602cba5-aec6-4a18-a071-ce021c359851",
   "metadata": {},
   "source": [
    "#### Q4: Calculate the mean years of experience per region. "
   ]
  },
  {
   "cell_type": "code",
   "execution_count": 20,
   "id": "6055b72d-9238-4ea9-a1ab-ff74db8fbe05",
   "metadata": {},
   "outputs": [
    {
     "name": "stdout",
     "output_type": "stream",
     "text": [
      "Mean years of experience per region:\n",
      "Region\n",
      "Bulawayo     8.0\n",
      "Gweru        4.0\n",
      "Harare       5.5\n",
      "Masvingo     7.0\n",
      "Mutare      10.0 \n",
      "\n"
     ]
    }
   ],
   "source": [
    "mean_exp_region = df.groupby('Region')['Years_Experience'].mean()\n",
    "print(\"Mean years of experience per region:\")\n",
    "print(mean_exp_region.to_string(), \"\\n\")"
   ]
  },
  {
   "cell_type": "code",
   "execution_count": 37,
   "id": "5d83fdc0-edf7-4d2c-b3ad-57067e9ccb15",
   "metadata": {},
   "outputs": [
    {
     "data": {
      "image/png": "[encoded data removed]",
      "text/plain": [
       "<Figure size 640x480 with 1 Axes>"
      ]
     },
     "metadata": {},
     "output_type": "display_data"
    }
   ],
   "source": [
    "mean_exp_region.plot(kind=\"bar\")\n",
    "plt.grid(axis='y', alpha=0.5)\n",
    "plt.xlabel(\"Region\")\n",
    "plt.ylabel(\"Mean Years of Experience\")\n",
    "plt.title(\"Mean Years of Experience by Region\")\n",
    "plt.show()"
   ]
  },
  {
   "cell_type": "markdown",
   "id": "d4ab1b6d-f9a7-45b9-9ed2-00c7e239bca6",
   "metadata": {},
   "source": [
    "#### Q5: Generate a histogram showing the age distribution of technicians."
   ]
  },
  {
   "cell_type": "code",
   "execution_count": 21,
   "id": "1e3a5730-c69b-45f7-9fa3-6657e9971b0e",
   "metadata": {},
   "outputs": [
    {
     "data": {
      "image/png": "[encoded data removed]",
      "text/plain": [
       "<Figure size 800x500 with 1 Axes>"
      ]
     },
     "metadata": {},
     "output_type": "display_data"
    }
   ],
   "source": [
    "#A histogram showing the age distribution of technicians.\n",
    "plt.figure(figsize=(8, 5))\n",
    "plt.hist(df['Age'], bins=range(min(df['Age']), max(df['Age'])+2), edgecolor='black')\n",
    "plt.title('Age Distribution of Technicians')\n",
    "plt.xlabel('Age')\n",
    "plt.ylabel('Count')\n",
    "plt.grid(axis='y', alpha=0.75)\n",
    "plt.show();"
   ]
  },
  {
   "cell_type": "markdown",
   "id": "ef10c3d5-07ea-4757-b311-e15971342784",
   "metadata": {},
   "source": [
    "- We can note that we have more technicians on the lower scale of age."
   ]
  },
  {
   "cell_type": "markdown",
   "id": "edb5f7ea-7266-4609-8ea0-01163b9bd8ac",
   "metadata": {},
   "source": [
    "### SECTION B – Diagnostic Analytics"
   ]
  },
  {
   "cell_type": "markdown",
   "id": "f0798ace-9af4-4741-873a-2794655dfd84",
   "metadata": {},
   "source": [
    "#### Q6: Is there a correlation between years of experience and the number of faults resolved?"
   ]
  },
  {
   "cell_type": "code",
   "execution_count": 23,
   "id": "d7491c16-2b1d-4aeb-98a3-9e676695e4c5",
   "metadata": {},
   "outputs": [
    {
     "name": "stdout",
     "output_type": "stream",
     "text": [
      "Correlation between years of experience and faults resolved: 0.50\n",
      "\n"
     ]
    }
   ],
   "source": [
    "correlation = df['Years_Experience'].corr(df['Faults_Resolved'])\n",
    "print(f\"Correlation between years of experience and faults resolved: {correlation:.2f}\\n\")"
   ]
  },
  {
   "cell_type": "markdown",
   "id": "940bcfc0-1be8-470a-a5cd-b2cd76dd7e3f",
   "metadata": {},
   "source": [
    "- There is a slight positive correlation of 0.5 meaning when number of years of experience increases the number of faults resolved also increases and vice versa"
   ]
  },
  {
   "cell_type": "markdown",
   "id": "992202e5-fefb-41e5-8ee3-5e5f92820112",
   "metadata": {},
   "source": [
    "#### Q7. Do older technicians (above or equal to 30) tend to resolve more faults or have higher satisfaction scores? "
   ]
  },
  {
   "cell_type": "code",
   "execution_count": 25,
   "id": "d3cf54bf-8607-448f-952c-f58c692a5bca",
   "metadata": {},
   "outputs": [
    {
     "name": "stdout",
     "output_type": "stream",
     "text": [
      "Performance comparison between older (>30) and younger (≤30) technicians:\n",
      "   Technicians above or equal to 30:\n",
      "      Avg faults resolved: 3.3\n",
      "      Avg satisfaction: 3.2\n",
      "   Technicians younger than 30:\n",
      "      Avg faults resolved: 3.0\n",
      "      Avg satisfaction: 4.3\n",
      "\n",
      "   Comparison:\n",
      "   Older technicians resolve 0.3 more faults on average\n",
      "   Older technicians have -1.2 higher satisfaction scores on average\n",
      "\n"
     ]
    }
   ],
   "source": [
    "#Define Age Brackets\n",
    "older_tech = df[df['Age'] > 30]\n",
    "younger_tech = df[df['Age'] <= 30]\n",
    "\n",
    "print(\"Performance comparison between older (>30) and younger (≤30) technicians:\")\n",
    "\n",
    "#Older than or equal to 30 years\n",
    "if not older_tech.empty:\n",
    "    older_faults = older_tech['Faults_Resolved'].mean()\n",
    "    older_satisfaction = older_tech['Customer_Satisfaction'].mean()\n",
    "    print(f\"   Technicians above or equal to 30:\\n      Avg faults resolved: {older_faults:.1f}\\n      Avg satisfaction: {older_satisfaction:.1f}\")\n",
    "else:\n",
    "    print(\"   No technicians above or equal to 30 in the dataset\")\n",
    "\n",
    "#Younder than 30 years\n",
    "if not younger_tech.empty:\n",
    "    younger_faults = younger_tech['Faults_Resolved'].mean()\n",
    "    younger_satisfaction = younger_tech['Customer_Satisfaction'].mean()\n",
    "    print(f\"   Technicians younger than 30:\\n      Avg faults resolved: {younger_faults:.1f}\\n      Avg satisfaction: {younger_satisfaction:.1f}\")\n",
    "else:\n",
    "    print(\"   No technicians younger than 30 in the dataset\")\n",
    "\n",
    "# Calculating differences for easier comparison\n",
    "if not older_tech.empty and not younger_tech.empty:\n",
    "    fault_diff = older_faults - younger_faults\n",
    "    sat_diff = older_satisfaction - younger_satisfaction\n",
    "    print(f\"\\n   Comparison:\")\n",
    "    print(f\"   Older technicians resolve {fault_diff:.1f} more faults on average\")\n",
    "    print(f\"   Older technicians have {sat_diff:.1f} higher satisfaction scores on average\")\n",
    "elif older_tech.empty and younger_tech.empty:\n",
    "    print(\"\\n   No age data available for comparison\")\n",
    "elif older_tech.empty:\n",
    "    print(\"\\n   No older technicians available for comparison\")\n",
    "else:\n",
    "    print(\"\\n   No younger technicians available for comparison\")\n",
    "print()"
   ]
  },
  {
   "cell_type": "markdown",
   "id": "663ed3b4-dc46-4b11-be39-2c62cc3360fe",
   "metadata": {},
   "source": [
    "#### Q8: Compare satisfaction scores between technicians with diplomas vs. degrees. "
   ]
  },
  {
   "cell_type": "code",
   "execution_count": 29,
   "id": "bc7d3bbc-ce3c-4296-9596-3a3b5c23beca",
   "metadata": {},
   "outputs": [
    {
     "name": "stdout",
     "output_type": "stream",
     "text": [
      "Average Satisfaction scores out of 5 by education level:\n",
      "   BSc: 4.0\n",
      "   Diploma: 3.5\n",
      "\n"
     ]
    }
   ],
   "source": [
    "print(\"Average Satisfaction scores out of 5 by education level:\")\n",
    "education_satisfaction = df.groupby('Education_Level')['Customer_Satisfaction'].mean()\n",
    "\n",
    "if not education_satisfaction.empty:\n",
    "    for education, score in education_satisfaction.items():\n",
    "        print(f\"   {education}: {score:.1f}\")\n",
    "else:\n",
    "    print(\"   No education level data available\")\n",
    "print()"
   ]
  },
  {
   "cell_type": "code",
   "execution_count": 32,
   "id": "d384a78e-8144-4fe2-a6b8-9f8805e923bd",
   "metadata": {},
   "outputs": [
    {
     "data": {
      "image/png": "[encoded data removed]",
      "text/plain": [
       "<Figure size 600x400 with 1 Axes>"
      ]
     },
     "metadata": {},
     "output_type": "display_data"
    }
   ],
   "source": [
    "#Plotting the Satisfaction Scores by Education Level\n",
    "plt.figure(figsize=(6, 4))\n",
    "education_satisfaction.plot(kind='bar', color=['blue', 'orange'])  # Directly using the Series\n",
    "plt.xlabel(\"Education Level\")\n",
    "plt.ylabel(\"Average Satisfaction Score\")\n",
    "plt.title(\"Satisfaction Scores by Education Level\")\n",
    "plt.ylim(1, 5)  # scores range from 1 to 5\n",
    "plt.grid(axis='y', alpha=0.5)\n",
    "plt.show()"
   ]
  },
  {
   "cell_type": "markdown",
   "id": "37c70a7d-ceb3-40a0-a57e-90c7f7a8ba5b",
   "metadata": {},
   "source": [
    "- Technicians with BSc have higher average satisfaction scores compared to the Diploma owning Technicians."
   ]
  },
  {
   "cell_type": "markdown",
   "id": "d7c16c57-3e4d-473e-81d4-c45a3c91eec2",
   "metadata": {},
   "source": [
    "#### Q9: Are there gender-based differences in issue escalation or task completion rates? "
   ]
  },
  {
   "cell_type": "code",
   "execution_count": 41,
   "id": "aabe28b7-a649-48a1-8ff1-5937148df03a",
   "metadata": {},
   "outputs": [
    {
     "name": "stdout",
     "output_type": "stream",
     "text": [
      "Gender-based differences:\n",
      "   Issue escalation rate:\n",
      "Gender\n",
      "F      0.0\n",
      "M    100.0 \n",
      "\n",
      "   Average tasks completed:\n",
      "Gender\n",
      "F    2.666667\n",
      "M    5.000000 \n",
      "\n"
     ]
    }
   ],
   "source": [
    "gender_groups = df.groupby('Gender')\n",
    "if len(gender_groups) > 1:\n",
    "    # Issue escalation\n",
    "    escalation_rate = (gender_groups['Issue_Escalated'].apply(lambda x: (x == 'Yes').mean()))*100\n",
    "    # Task completion\n",
    "    task_completion = gender_groups['Tasks_Completed'].mean()\n",
    "\n",
    "    print(\"Gender-based differences:\")\n",
    "    print(\"   Issue escalation rate:\")\n",
    "    print(escalation_rate.to_string(), \"\\n\")\n",
    "    print(\"   Average tasks completed:\")\n",
    "    print(task_completion.to_string(), \"\\n\")\n",
    "else:\n",
    "    print(\"Only one gender present in data\\n\")"
   ]
  },
  {
   "cell_type": "markdown",
   "id": "9292e881-b504-4cd3-8c62-e901d44781b6",
   "metadata": {},
   "source": [
    "- We can note that Males have a 100% escalation rate compared to Females with 0%, then also Males complete more tasks on average as compared to Females."
   ]
  },
  {
   "cell_type": "markdown",
   "id": "86f08081-663c-4246-ab62-dd78797f479c",
   "metadata": {},
   "source": [
    "#### Q10: Which combination of gender and education level is most efficient (i.e., highest average faults resolved per hour)? "
   ]
  },
  {
   "cell_type": "code",
   "execution_count": 43,
   "id": "85730937-4243-49de-a8aa-b7c4079671ec",
   "metadata": {},
   "outputs": [
    {
     "name": "stdout",
     "output_type": "stream",
     "text": [
      "Most efficient gender-education combinations (faults resolved per hour):\n",
      "Gender  Education_Level\n",
      "F       BSc                0.666667\n",
      "M       Diploma            0.543269\n",
      "        BSc                0.533333\n",
      "F       Diploma            0.400000 \n",
      "\n"
     ]
    }
   ],
   "source": [
    "df['Efficiency'] = df['Faults_Resolved'] / df['Duration_Hrs']\n",
    "efficiency_groups = df.groupby(['Gender', 'Education_Level'])['Efficiency'].mean().sort_values(ascending=False)\n",
    "print(\"Most efficient gender-education combinations (faults resolved per hour):\")\n",
    "print(efficiency_groups.to_string(), \"\\n\")"
   ]
  },
  {
   "cell_type": "markdown",
   "id": "2e28f2e6-c71c-41c3-a8f9-b6aacd1c5c2f",
   "metadata": {},
   "source": [
    "- Female holders of the BSc Degree are the most efficient in terms of Highest Average faults resolved per hour."
   ]
  },
  {
   "cell_type": "markdown",
   "id": "e6048c86-3b31-4ea6-bb28-86da93101228",
   "metadata": {},
   "source": [
    "### SECTION C – Interpretation & Recommendations"
   ]
  },
  {
   "cell_type": "markdown",
   "id": "39d5446f-2303-47be-be80-3296c80adf50",
   "metadata": {},
   "source": [
    "#### Q11: Identify two demographic factors that influence customer satisfaction the most."
   ]
  },
  {
   "cell_type": "code",
   "execution_count": 44,
   "id": "113771e8-8819-4fdb-bfc4-d7dc33a7f801",
   "metadata": {},
   "outputs": [
    {
     "name": "stdout",
     "output_type": "stream",
     "text": [
      "Demographic factors influencing customer satisfaction:\n",
      "\n",
      "Numeric factors (absolute correlation coefficients):\n",
      "Years_Experience    0.989743\n",
      "Age                 0.835214\n",
      "\n",
      "Categorical factors (standardized effect sizes 0-1):\n",
      "Region: 1.00\n",
      "Gender: 0.60\n",
      "Education_Level: 0.20\n",
      "\n",
      "Top two demographic factors influencing customer satisfaction:\n",
      "1. Region (categorical, impact: 1.00)\n",
      "2. Years_Experience (numeric, impact: 0.99)\n"
     ]
    }
   ],
   "source": [
    "# Calculate the total range of satisfaction scores (for standardization)\n",
    "sat_range = df['Customer_Satisfaction'].max() - df['Customer_Satisfaction'].min()\n",
    "\n",
    "# For numeric demographic factors (age, years experience)\n",
    "numeric_demo_cols = ['Age', 'Years_Experience']  # explicitly listing demographic numeric columns\n",
    "numeric_corrs = df[numeric_demo_cols].corrwith(df['Customer_Satisfaction']).abs().sort_values(ascending=False)\n",
    "\n",
    "# For categorical demographic factors (gender, education level, region)\n",
    "categorical_demo_cols = ['Gender', 'Education_Level', 'Region']  # listing of categorical demographic columns\n",
    "cat_results = []\n",
    "\n",
    "for col in categorical_demo_cols:\n",
    "    # Calculate mean satisfaction for each category\n",
    "    group_means = df.groupby(col)['Customer_Satisfaction'].mean()\n",
    "    # Calculate STANDARDIZED effect size (range divided by total satisfaction range)\n",
    "    effect_size = (group_means.max() - group_means.min()) / sat_range\n",
    "    cat_results.append((col, effect_size))\n",
    "\n",
    "# Sort by effect size\n",
    "cat_results.sort(key=lambda x: x[1], reverse=True)\n",
    "\n",
    "# Combine results\n",
    "print(\"Demographic factors influencing customer satisfaction:\")\n",
    "print(\"\\nNumeric factors (absolute correlation coefficients):\")\n",
    "print(numeric_corrs.to_string())\n",
    "\n",
    "print(\"\\nCategorical factors (standardized effect sizes 0-1):\")\n",
    "for factor, effect in cat_results:\n",
    "    print(f\"{factor}: {effect:.2f}\")\n",
    "\n",
    "# Get top 2 overall (combining both types)\n",
    "top_factors = []\n",
    "if len(numeric_corrs) > 0:\n",
    "    top_factors.append((numeric_corrs.index[0], numeric_corrs.iloc[0], 'numeric'))\n",
    "if len(cat_results) > 0:\n",
    "    top_factors.append((cat_results[0][0], cat_results[0][1], 'categorical'))\n",
    "    if len(cat_results) > 1:  # Add second strongest categorical if available\n",
    "        top_factors.append((cat_results[1][0], cat_results[1][1], 'categorical'))\n",
    "\n",
    "# Sort by impact (correlation/effect size)\n",
    "top_factors.sort(key=lambda x: x[1], reverse=True)\n",
    "\n",
    "print(\"\\nTop two demographic factors influencing customer satisfaction:\")\n",
    "for i, (factor, impact, typ) in enumerate(top_factors[:2], 1):\n",
    "    print(f\"{i}. {factor} ({typ}, impact: {impact:.2f})\")"
   ]
  },
  {
   "cell_type": "markdown",
   "id": "27cd989e-f17a-4868-af74-5bb8c021313d",
   "metadata": {},
   "source": [
    "- Comment: The word demographic is a vague word and when we look both into categorical and numerical fields we see results, but to ascetain for sure if Region has impact we would require more data since the spread is limited"
   ]
  },
  {
   "cell_type": "markdown",
   "id": "148bb23d-5064-499c-9848-a7021a8aa635",
   "metadata": {},
   "source": [
    "#### Q12: Recommend staffing strategies based on region, experience, and education level to reduce issue escalations. "
   ]
  },
  {
   "cell_type": "code",
   "execution_count": 51,
   "id": "ed719603-a950-4102-b834-318ce3ab7a4c",
   "metadata": {},
   "outputs": [
    {
     "name": "stdout",
     "output_type": "stream",
     "text": [
      "Recommended staffing strategies (combinations with lowest escalation rates):\n",
      "  Region Education_Level  Years_Experience  Escalation_Rate\n",
      "   Gweru             BSc                 4              0.0\n",
      "  Harare             BSc                 6              0.0\n",
      "  Harare         Diploma                 5              0.0\n",
      "Bulawayo             BSc                 8              1.0\n",
      "Masvingo         Diploma                 7              1.0\n",
      "  Mutare         Diploma                10              1.0 \n",
      "\n"
     ]
    }
   ],
   "source": [
    "# Analyze issue escalation patterns\n",
    "escalation_analysis = df.groupby(['Region', 'Education_Level', 'Years_Experience'])['Issue_Escalated'].apply(\n",
    "    lambda x: (x == 'Yes').mean()).reset_index()\n",
    "escalation_analysis.columns = ['Region', 'Education_Level', 'Years_Experience', 'Escalation_Rate']\n",
    "\n",
    "# Find combinations with lowest escalation rates\n",
    "low_escalation = escalation_analysis.sort_values('Escalation_Rate')\n",
    "print(\"Recommended staffing strategies (combinations with lowest escalation rates):\")\n",
    "print(low_escalation.to_string(index=False), \"\\n\")"
   ]
  },
  {
   "cell_type": "markdown",
   "id": "df68be3c-d4b9-435e-81c2-aecc3db0cd49",
   "metadata": {},
   "source": [
    "- This allows for staff to be rotated to share knowledge and adopt a way of work that reduces escalation rates."
   ]
  },
  {
   "cell_type": "markdown",
   "id": "270c83b4-cde4-4507-845e-af24f1441eb1",
   "metadata": {},
   "source": [
    "#### Q13: Based on your EDA, suggest one way to improve technician productivity across all demographics."
   ]
  },
  {
   "cell_type": "code",
   "execution_count": 64,
   "id": "4069dd2e-089c-433f-84f1-23fe0f9c774d",
   "metadata": {},
   "outputs": [
    {
     "name": "stdout",
     "output_type": "stream",
     "text": [
      "\n",
      "Productivity Improvement Recommendations (Based on Actionable Demographics):\n",
      "\n",
      "1. Region Analysis:\n",
      "   Highest performing group: Gweru\n",
      "   Efficiency: 0.67 faults/hour\n",
      "   Satisfaction: 5.00/5\n",
      "   Sample size: 1.0 technicians\n",
      "   RECOMMENDATION: Document and replicate this region's best practices across other locations\n",
      "\n",
      "2. Experience_Tier Analysis:\n",
      "   Highest performing group: Mid (3-5yrs)\n",
      "   Efficiency: 0.53 faults/hour\n",
      "   Satisfaction: 4.75/5\n",
      "   Sample size: 2.0 technicians\n",
      "   RECOMMENDATION: Implement mentoring programs where this group shares techniques with others\n",
      "\n",
      "3. Education_Level Analysis:\n",
      "   Highest performing group: BSc\n",
      "   Efficiency: 0.62 faults/hour\n",
      "   Satisfaction: 4.00/5\n",
      "   Sample size: 3.0 technicians\n",
      "   RECOMMENDATION: Provide targeted training to bring other education groups up to this standard\n",
      "\n",
      "   Additional Insight: Education-Experience Matrix\n",
      "                     Efficiency                                                Customer_Satisfaction                                               \n",
      "Experience_Tier Junior (0-2yrs) Mid (3-5yrs) Senior (6-10yrs) Veteran (10+yrs)       Junior (0-2yrs) Mid (3-5yrs) Senior (6-10yrs) Veteran (10+yrs)\n",
      "Education_Level                                                                                                                                    \n",
      "BSc                         NaN         0.67             0.60              NaN                   NaN          5.0              3.5              NaN\n",
      "Diploma                     NaN         0.40             0.54              NaN                   NaN          4.5              3.0              NaN\n"
     ]
    },
    {
     "name": "stderr",
     "output_type": "stream",
     "text": [
      "C:\\Users\\Dumisani Mukuchura\\AppData\\Local\\Temp\\ipykernel_6512\\4183269385.py:23: FutureWarning: The default of observed=False is deprecated and will be changed to True in a future version of pandas. Pass observed=False to retain current behavior or observed=True to adopt the future default and silence this warning.\n",
      "  group_stats = df.groupby(demo).agg({\n",
      "C:\\Users\\Dumisani Mukuchura\\AppData\\Local\\Temp\\ipykernel_6512\\4183269385.py:73: FutureWarning: The default of observed=False is deprecated and will be changed to True in a future version of pandas. Pass observed=False to retain current behavior or observed=True to adopt the future default and silence this warning.\n",
      "  edu_exp_matrix = df.groupby(['Education_Level', 'Experience_Tier']).agg({\n"
     ]
    }
   ],
   "source": [
    "df = df.reset_index()  # Moves WorkID from index to a column\n",
    "\n",
    "# First ensure we have our efficiency metric calculated\n",
    "df['Efficiency'] = df['Faults_Resolved'] / df['Duration_Hrs']\n",
    "\n",
    "# Create experience tiers (bins) for more meaningful analysis\n",
    "df['Experience_Tier'] = pd.cut(df['Years_Experience'],\n",
    "                              bins=[0, 2, 5, 10, 100],\n",
    "                              labels=['Junior (0-2yrs)', 'Mid (3-5yrs)',\n",
    "                                      'Senior (6-10yrs)', 'Veteran (10+yrs)'])\n",
    "\n",
    "# Define actionable demographic factors (modifiable characteristics)\n",
    "actionable_demographics = ['Education_Level', 'Experience_Tier', 'Region']\n",
    "\n",
    "# Analyze each demographic factor's impact\n",
    "results = []\n",
    "for demo in actionable_demographics:\n",
    "    # Skip if column doesn't exist\n",
    "    if demo not in df.columns:\n",
    "        continue\n",
    "\n",
    "    # Calculate metrics for each group\n",
    "    group_stats = df.groupby(demo).agg({\n",
    "        'Efficiency': 'mean',\n",
    "        'Customer_Satisfaction': 'mean',\n",
    "        'Work_ID': 'count'  # count of technicians\n",
    "    }).rename(columns={'Work_ID': 'Count'})\n",
    "\n",
    "    # Calculate combined score (50% efficiency, 50% satisfaction)\n",
    "    max_eff = group_stats['Efficiency'].max()\n",
    "    max_sat = group_stats['Customer_Satisfaction'].max()\n",
    "    group_stats['Combined_Score'] = (0.5 * (group_stats['Efficiency'] / max_eff) +\n",
    "                                   0.5 * (group_stats['Customer_Satisfaction'] / max_sat))\n",
    "\n",
    "    # Get top performing group\n",
    "    top_group = group_stats.sort_values('Combined_Score', ascending=False).iloc[0]\n",
    "\n",
    "    results.append({\n",
    "        'Factor': demo,\n",
    "        'Top_Group': top_group.name,\n",
    "        'Efficiency': top_group['Efficiency'],\n",
    "        'Satisfaction': top_group['Customer_Satisfaction'],\n",
    "        'Count': top_group['Count']\n",
    "    })\n",
    "\n",
    "# Generate recommendations\n",
    "print(\"\\nProductivity Improvement Recommendations (Based on Actionable Demographics):\")\n",
    "\n",
    "if not results:\n",
    "    print(\"   No actionable demographic factors available for analysis\")\n",
    "else:\n",
    "    # Sort by combined score\n",
    "    results.sort(key=lambda x: x['Efficiency'] + x['Satisfaction'], reverse=True)\n",
    "\n",
    "    for i, res in enumerate(results[:3], 1):  # Show top 3 findings\n",
    "        print(f\"\\n{i}. {res['Factor']} Analysis:\")\n",
    "        print(f\"   Highest performing group: {res['Top_Group']}\")\n",
    "        print(f\"   Efficiency: {res['Efficiency']:.2f} faults/hour\")\n",
    "        print(f\"   Satisfaction: {res['Satisfaction']:.2f}/5\")\n",
    "        print(f\"   Sample size: {res['Count']} technicians\")\n",
    "\n",
    "        # Generate specific recommendation\n",
    "        if res['Factor'] == 'Education_Level':\n",
    "            print(\"   RECOMMENDATION: Provide targeted training to bring other education groups up to this standard\")\n",
    "        elif res['Factor'] == 'Experience_Tier':\n",
    "            print(\"   RECOMMENDATION: Implement mentoring programs where this group shares techniques with others\")\n",
    "        elif res['Factor'] == 'Region':\n",
    "            print(\"   RECOMMENDATION: Document and replicate this region's best practices across other locations\")\n",
    "\n",
    "# Additional insight: Education vs Experience matrix\n",
    "if 'Education_Level' in df.columns and 'Experience_Tier' in df.columns:\n",
    "    print(\"\\n   Additional Insight: Education-Experience Matrix\")\n",
    "    edu_exp_matrix = df.groupby(['Education_Level', 'Experience_Tier']).agg({\n",
    "        'Efficiency': 'mean',\n",
    "        'Customer_Satisfaction': 'mean'\n",
    "    }).unstack().round(2)\n",
    "    print(edu_exp_matrix.to_string())"
   ]
  },
  {
   "cell_type": "code",
   "execution_count": null,
   "id": "5eddad3d-f2ca-419e-aea1-b2b578f7cec8",
   "metadata": {},
   "outputs": [],
   "source": []
  },
  {
   "cell_type": "code",
   "execution_count": null,
   "id": "509f1c94-345d-42b3-9639-8e601c000dc7",
   "metadata": {},
   "outputs": [],
   "source": []
  }
 ],
 "metadata": {
  "kernelspec": {
   "display_name": "Python 3 (ipykernel)",
   "language": "python",
   "name": "python3"
  },
  "language_info": {
   "codemirror_mode": {
    "name": "ipython",
    "version": 3
   },
   "file_extension": ".py",
   "mimetype": "text/x-python",
   "name": "python",
   "nbconvert_exporter": "python",
   "pygments_lexer": "ipython3",
   "version": "3.12.4"
  }
 },
 "nbformat": 4,
 "nbformat_minor": 5
}
