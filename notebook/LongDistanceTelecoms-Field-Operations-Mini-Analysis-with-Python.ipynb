{
 "cells": [
  {
   "cell_type": "markdown",
   "id": "b685cb9e-8182-4416-98df-8768ce9d0636",
   "metadata": {},
   "source": [
    "## LongDistanceTelecoms-Field-Operations-Mini-Analysis-with-Python by Dumisani Maxwell Mukuchura\n",
    "\n",
    "#### Dataset Source: Available on GitHub in the same Repo this Project is Hosted\n",
    "#### Contact: dumisanimukuchura@gmail.com \n",
    "#### LinkedIn: https://www.linkedin.com/in/dumisani-maxwell-mukuchura-4859b7170/ \n",
    "\n",
    "#### A quick but impactful EDA of a 6-row dataset from a fictional telecom company.\n",
    "\n",
    "**Disclaimer:** This is a demonstration of analytical thought process on a very small dataset. Any derived insights would require a significantly larger and more representative dataset for validation in a real-world scenario.\n"
   ]
  },
  {
   "cell_type": "markdown",
   "id": "7f795ff2-0528-46a3-8385-75a7ffe7ff50",
   "metadata": {},
   "source": [
    "### 1. Libraries and Data Importation "
   ]
  },
  {
   "cell_type": "code",
   "execution_count": 4,
   "id": "eb265a91-718d-4b66-90da-b8099d95f967",
   "metadata": {},
   "outputs": [],
   "source": [
    "#Libraries Imported\n",
    "\n",
    "import os\n",
    "\n",
    "import pandas as pd\n",
    "import matplotlib.pyplot as plt\n",
    "import seaborn as sns\n",
    "import numpy as np"
   ]
  },
  {
   "cell_type": "code",
   "execution_count": 8,
   "id": "eb807016-cfab-49c7-b22b-3ceffc3f76db",
   "metadata": {},
   "outputs": [
    {
     "data": {
      "text/html": [
       "<div>\n",
       "<style scoped>\n",
       "    .dataframe tbody tr th:only-of-type {\n",
       "        vertical-align: middle;\n",
       "    }\n",
       "\n",
       "    .dataframe tbody tr th {\n",
       "        vertical-align: top;\n",
       "    }\n",
       "\n",
       "    .dataframe thead th {\n",
       "        text-align: right;\n",
       "    }\n",
       "</style>\n",
       "<table border=\"1\" class=\"dataframe\">\n",
       "  <thead>\n",
       "    <tr style=\"text-align: right;\">\n",
       "      <th></th>\n",
       "      <th>Technician_Name</th>\n",
       "      <th>Age</th>\n",
       "      <th>Gender</th>\n",
       "      <th>Education_Level</th>\n",
       "      <th>Years_Experience</th>\n",
       "      <th>Region</th>\n",
       "      <th>Work_Type</th>\n",
       "      <th>Duration_Hrs</th>\n",
       "      <th>Tasks_Completed</th>\n",
       "      <th>Faults_Resolved</th>\n",
       "      <th>Equipment_Used</th>\n",
       "      <th>Site_Type</th>\n",
       "      <th>Issue_Escalated</th>\n",
       "      <th>Customer_Satisfaction</th>\n",
       "    </tr>\n",
       "    <tr>\n",
       "      <th>Work_ID</th>\n",
       "      <th></th>\n",
       "      <th></th>\n",
       "      <th></th>\n",
       "      <th></th>\n",
       "      <th></th>\n",
       "      <th></th>\n",
       "      <th></th>\n",
       "      <th></th>\n",
       "      <th></th>\n",
       "      <th></th>\n",
       "      <th></th>\n",
       "      <th></th>\n",
       "      <th></th>\n",
       "      <th></th>\n",
       "    </tr>\n",
       "  </thead>\n",
       "  <tbody>\n",
       "    <tr>\n",
       "      <th>W001</th>\n",
       "      <td>Sophia Matthews</td>\n",
       "      <td>29</td>\n",
       "      <td>F</td>\n",
       "      <td>Diploma</td>\n",
       "      <td>5</td>\n",
       "      <td>Harare</td>\n",
       "      <td>Fiber Installation</td>\n",
       "      <td>5.0</td>\n",
       "      <td>3</td>\n",
       "      <td>2</td>\n",
       "      <td>Splicer, OTDR</td>\n",
       "      <td>Urban</td>\n",
       "      <td>No</td>\n",
       "      <td>4.5</td>\n",
       "    </tr>\n",
       "    <tr>\n",
       "      <th>W002</th>\n",
       "      <td>Liam Nkosi</td>\n",
       "      <td>32</td>\n",
       "      <td>M</td>\n",
       "      <td>BSc</td>\n",
       "      <td>8</td>\n",
       "      <td>Bulawayo</td>\n",
       "      <td>Base Station Repair</td>\n",
       "      <td>7.5</td>\n",
       "      <td>5</td>\n",
       "      <td>4</td>\n",
       "      <td>Multimeter, Analyzer</td>\n",
       "      <td>Rural</td>\n",
       "      <td>Yes</td>\n",
       "      <td>3.0</td>\n",
       "    </tr>\n",
       "    <tr>\n",
       "      <th>W003</th>\n",
       "      <td>Isabella Chikosi</td>\n",
       "      <td>27</td>\n",
       "      <td>F</td>\n",
       "      <td>BSc</td>\n",
       "      <td>4</td>\n",
       "      <td>Gweru</td>\n",
       "      <td>Router Config</td>\n",
       "      <td>3.0</td>\n",
       "      <td>2</td>\n",
       "      <td>2</td>\n",
       "      <td>Laptop, Patch Cords</td>\n",
       "      <td>Urban</td>\n",
       "      <td>No</td>\n",
       "      <td>5.0</td>\n",
       "    </tr>\n",
       "    <tr>\n",
       "      <th>W004</th>\n",
       "      <td>Noah Banda</td>\n",
       "      <td>35</td>\n",
       "      <td>M</td>\n",
       "      <td>Diploma</td>\n",
       "      <td>10</td>\n",
       "      <td>Mutare</td>\n",
       "      <td>Signal Testing</td>\n",
       "      <td>6.5</td>\n",
       "      <td>4</td>\n",
       "      <td>3</td>\n",
       "      <td>Spectrum Analyzer</td>\n",
       "      <td>Rural</td>\n",
       "      <td>Yes</td>\n",
       "      <td>2.5</td>\n",
       "    </tr>\n",
       "    <tr>\n",
       "      <th>W005</th>\n",
       "      <td>Ava Moyo</td>\n",
       "      <td>31</td>\n",
       "      <td>F</td>\n",
       "      <td>BSc</td>\n",
       "      <td>6</td>\n",
       "      <td>Harare</td>\n",
       "      <td>Fiber Maintenance</td>\n",
       "      <td>4.5</td>\n",
       "      <td>3</td>\n",
       "      <td>3</td>\n",
       "      <td>OTDR, Power Meter</td>\n",
       "      <td>Urban</td>\n",
       "      <td>No</td>\n",
       "      <td>4.0</td>\n",
       "    </tr>\n",
       "    <tr>\n",
       "      <th>W006</th>\n",
       "      <td>Ethan Sibanda</td>\n",
       "      <td>28</td>\n",
       "      <td>M</td>\n",
       "      <td>Diploma</td>\n",
       "      <td>7</td>\n",
       "      <td>Masvingo</td>\n",
       "      <td>Base Station Repair</td>\n",
       "      <td>8.0</td>\n",
       "      <td>6</td>\n",
       "      <td>5</td>\n",
       "      <td>Signal Tester</td>\n",
       "      <td>Rural</td>\n",
       "      <td>Yes</td>\n",
       "      <td>3.5</td>\n",
       "    </tr>\n",
       "  </tbody>\n",
       "</table>\n",
       "</div>"
      ],
      "text/plain": [
       "           Technician_Name  Age Gender Education_Level  Years_Experience  \\\n",
       "Work_ID                                                                    \n",
       "W001      Sophia Matthews    29      F         Diploma                 5   \n",
       "W002           Liam Nkosi    32      M             BSc                 8   \n",
       "W003     Isabella Chikosi    27      F             BSc                 4   \n",
       "W004           Noah Banda    35      M         Diploma                10   \n",
       "W005             Ava Moyo    31      F             BSc                 6   \n",
       "W006         Ethan Sibanda   28      M         Diploma                 7   \n",
       "\n",
       "           Region            Work_Type  Duration_Hrs  Tasks_Completed  \\\n",
       "Work_ID                                                                 \n",
       "W001       Harare   Fiber Installation           5.0                3   \n",
       "W002     Bulawayo  Base Station Repair           7.5                5   \n",
       "W003        Gweru        Router Config           3.0                2   \n",
       "W004       Mutare       Signal Testing           6.5                4   \n",
       "W005       Harare    Fiber Maintenance           4.5                3   \n",
       "W006     Masvingo  Base Station Repair           8.0                6   \n",
       "\n",
       "         Faults_Resolved        Equipment_Used Site_Type Issue_Escalated  \\\n",
       "Work_ID                                                                    \n",
       "W001                   2         Splicer, OTDR     Urban              No   \n",
       "W002                   4  Multimeter, Analyzer     Rural             Yes   \n",
       "W003                   2   Laptop, Patch Cords     Urban              No   \n",
       "W004                   3     Spectrum Analyzer     Rural             Yes   \n",
       "W005                   3     OTDR, Power Meter     Urban              No   \n",
       "W006                   5         Signal Tester     Rural             Yes   \n",
       "\n",
       "         Customer_Satisfaction  \n",
       "Work_ID                         \n",
       "W001                       4.5  \n",
       "W002                       3.0  \n",
       "W003                       5.0  \n",
       "W004                       2.5  \n",
       "W005                       4.0  \n",
       "W006                       3.5  "
      ]
     },
     "execution_count": 8,
     "metadata": {},
     "output_type": "execute_result"
    }
   ],
   "source": [
    "# Get the current working directory\n",
    "current_dir = os.getcwd()\n",
    "\n",
    "# Trim to one level above\n",
    "base_dir = os.path.dirname(current_dir)\n",
    "\n",
    "# Construct the path to the data folder\n",
    "data_dir = os.path.join(base_dir, \"data\")\n",
    "\n",
    "# Construct the full path to the CSV file\n",
    "csv_file_path = os.path.join(data_dir, \"telecom_field_operations.csv\")\n",
    "\n",
    "#Import File into DataFrame\n",
    "df = pd.read_csv(csv_file_path, index_col=\"Work_ID\")\n",
    "\n",
    "#View the first 6 rows of the DataFrame (knowing it has 6 rows)\n",
    "df.head(6)"
   ]
  },
  {
   "cell_type": "code",
   "execution_count": 10,
   "id": "6d6727f8-e280-49d5-be6f-4748bce20fc7",
   "metadata": {},
   "outputs": [
    {
     "name": "stdout",
     "output_type": "stream",
     "text": [
      "(6, 14)\n",
      "<class 'pandas.core.frame.DataFrame'>\n",
      "Index: 6 entries, W001 to W006\n",
      "Data columns (total 14 columns):\n",
      " #   Column                 Non-Null Count  Dtype  \n",
      "---  ------                 --------------  -----  \n",
      " 0   Technician_Name        6 non-null      object \n",
      " 1   Age                    6 non-null      int64  \n",
      " 2   Gender                 6 non-null      object \n",
      " 3   Education_Level        6 non-null      object \n",
      " 4   Years_Experience       6 non-null      int64  \n",
      " 5   Region                 6 non-null      object \n",
      " 6   Work_Type              6 non-null      object \n",
      " 7   Duration_Hrs           6 non-null      float64\n",
      " 8   Tasks_Completed        6 non-null      int64  \n",
      " 9   Faults_Resolved        6 non-null      int64  \n",
      " 10  Equipment_Used         6 non-null      object \n",
      " 11  Site_Type              6 non-null      object \n",
      " 12  Issue_Escalated        6 non-null      object \n",
      " 13  Customer_Satisfaction  6 non-null      float64\n",
      "dtypes: float64(2), int64(4), object(8)\n",
      "memory usage: 720.0+ bytes\n"
     ]
    }
   ],
   "source": [
    "#View DataFrame Information and Descriptions\n",
    "print(df.shape)\n",
    "df.info()"
   ]
  },
  {
   "cell_type": "markdown",
   "id": "6870eea8-2933-4a98-8778-3a1a07a54027",
   "metadata": {},
   "source": [
    "- From the view we can not we have 6 rows and 14 columns without any missing values and designated Work_ID index"
   ]
  },
  {
   "cell_type": "markdown",
   "id": "45685499-1494-4b68-8097-e78722bd072d",
   "metadata": {},
   "source": [
    "### 2. SECTION A - Descriptive Summary"
   ]
  },
  {
   "cell_type": "markdown",
   "id": "85a4f623-e745-4b69-ac1f-dc6e4a9e6ef7",
   "metadata": {},
   "source": [
    "#### Q1: What is the average customer satisfaction rating across all technicians?"
   ]
  },
  {
   "cell_type": "code",
   "execution_count": 14,
   "id": "6931199c-d44d-4c31-93de-64b7d0b89fda",
   "metadata": {},
   "outputs": [
    {
     "name": "stdout",
     "output_type": "stream",
     "text": [
      "Customer_Satisfaction_Average: 3.75 out of 5\n"
     ]
    }
   ],
   "source": [
    "Customer_Satisfaction_Average = df['Customer_Satisfaction'].mean()\n",
    "print(f\"Customer_Satisfaction_Average: {Customer_Satisfaction_Average} out of 5\")"
   ]
  },
  {
   "cell_type": "markdown",
   "id": "91e8991d-cda7-4e4d-bba7-771f47d275d7",
   "metadata": {},
   "source": [
    "#### Q2: What is the distribution (count) of technicians by education level?"
   ]
  },
  {
   "cell_type": "code",
   "execution_count": 16,
   "id": "b9276f65-e55f-40bf-9f3c-a7676e5761d8",
   "metadata": {},
   "outputs": [
    {
     "name": "stdout",
     "output_type": "stream",
     "text": [
      "Distribution of technicians by education level:\n",
      "Education_Level\n",
      "Diploma    3\n",
      "BSc        3 \n",
      "\n"
     ]
    }
   ],
   "source": [
    "education_dist = df['Education_Level'].value_counts()\n",
    "print(\"Distribution of technicians by education level:\")\n",
    "print(education_dist.to_string(), \"\\n\")"
   ]
  },
  {
   "cell_type": "markdown",
   "id": "05e2a148-0b2b-40eb-9af5-95accd992509",
   "metadata": {},
   "source": [
    "#### Q3: What is the average duration of work by gender?"
   ]
  },
  {
   "cell_type": "code",
   "execution_count": 19,
   "id": "a84c450d-e558-4399-b04a-5af62f577dc7",
   "metadata": {},
   "outputs": [
    {
     "name": "stdout",
     "output_type": "stream",
     "text": [
      "Average duration of work by gender:\n",
      "Gender\n",
      "F    4.166667\n",
      "M    7.333333 \n",
      "\n"
     ]
    }
   ],
   "source": [
    "avg_duration_gender = df.groupby('Gender')['Duration_Hrs'].mean()\n",
    "print(\"Average duration of work by gender:\")\n",
    "print(avg_duration_gender.to_string(), \"\\n\")"
   ]
  },
  {
   "cell_type": "markdown",
   "id": "541082e2-a483-4110-bb6c-d90cc0802961",
   "metadata": {},
   "source": [
    "- Male Technicians have a higher average duration of work as compared to Female Technicians."
   ]
  },
  {
   "cell_type": "markdown",
   "id": "3602cba5-aec6-4a18-a071-ce021c359851",
   "metadata": {},
   "source": [
    "#### Q4: Calculate the mean years of experience per region. "
   ]
  },
  {
   "cell_type": "code",
   "execution_count": 20,
   "id": "6055b72d-9238-4ea9-a1ab-ff74db8fbe05",
   "metadata": {},
   "outputs": [
    {
     "name": "stdout",
     "output_type": "stream",
     "text": [
      "Mean years of experience per region:\n",
      "Region\n",
      "Bulawayo     8.0\n",
      "Gweru        4.0\n",
      "Harare       5.5\n",
      "Masvingo     7.0\n",
      "Mutare      10.0 \n",
      "\n"
     ]
    }
   ],
   "source": [
    "mean_exp_region = df.groupby('Region')['Years_Experience'].mean()\n",
    "print(\"Mean years of experience per region:\")\n",
    "print(mean_exp_region.to_string(), \"\\n\")"
   ]
  },
  {
   "cell_type": "markdown",
   "id": "d4ab1b6d-f9a7-45b9-9ed2-00c7e239bca6",
   "metadata": {},
   "source": [
    "#### Q5: Generate a histogram showing the age distribution of technicians."
   ]
  },
  {
   "cell_type": "code",
   "execution_count": 21,
   "id": "1e3a5730-c69b-45f7-9fa3-6657e9971b0e",
   "metadata": {},
   "outputs": [
    {
     "data": {
      "image/png": "[encoded data removed]",
      "text/plain": [
       "<Figure size 800x500 with 1 Axes>"
      ]
     },
     "metadata": {},
     "output_type": "display_data"
    }
   ],
   "source": [
    "#A histogram showing the age distribution of technicians.\n",
    "plt.figure(figsize=(8, 5))\n",
    "plt.hist(df['Age'], bins=range(min(df['Age']), max(df['Age'])+2), edgecolor='black')\n",
    "plt.title('Age Distribution of Technicians')\n",
    "plt.xlabel('Age')\n",
    "plt.ylabel('Count')\n",
    "plt.grid(axis='y', alpha=0.75)\n",
    "plt.show();"
   ]
  },
  {
   "cell_type": "markdown",
   "id": "ef10c3d5-07ea-4757-b311-e15971342784",
   "metadata": {},
   "source": [
    "- We can note that we have more technicians on the lower scale of age."
   ]
  },
  {
   "cell_type": "code",
   "execution_count": null,
   "id": "cac0bef9-0b41-4717-8f08-f7bc10b0582d",
   "metadata": {},
   "outputs": [],
   "source": []
  }
 ],
 "metadata": {
  "kernelspec": {
   "display_name": "Python 3 (ipykernel)",
   "language": "python",
   "name": "python3"
  },
  "language_info": {
   "codemirror_mode": {
    "name": "ipython",
    "version": 3
   },
   "file_extension": ".py",
   "mimetype": "text/x-python",
   "name": "python",
   "nbconvert_exporter": "python",
   "pygments_lexer": "ipython3",
   "version": "3.12.4"
  }
 },
 "nbformat": 4,
 "nbformat_minor": 5
}
