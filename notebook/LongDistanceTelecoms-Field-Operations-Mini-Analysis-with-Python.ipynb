{
 "cells": [
  {
   "cell_type": "markdown",
   "id": "b685cb9e-8182-4416-98df-8768ce9d0636",
   "metadata": {},
   "source": [
    "## LongDistanceTelecoms-Field-Operations-Mini-Analysis-with-Python by Dumisani Maxwell Mukuchura\n",
    "\n",
    "#### Dataset Source: Available on GitHub in the same Repo this Project is Hosted\n",
    "#### Contact: dumisanimukuchura@gmail.com \n",
    "#### LinkedIn: https://www.linkedin.com/in/dumisani-maxwell-mukuchura-4859b7170/ \n",
    "\n",
    "#### A quick but impactful EDA of a 6-row dataset from a fictional telecom company.\n",
    "\n",
    "**Disclaimer:** This is a demonstration of analytical thought process on a very small dataset. Any derived insights would require a significantly larger and more representative dataset for validation in a real-world scenario.\n"
   ]
  },
  {
   "cell_type": "code",
   "execution_count": null,
   "id": "eb265a91-718d-4b66-90da-b8099d95f967",
   "metadata": {},
   "outputs": [],
   "source": []
  }
 ],
 "metadata": {
  "kernelspec": {
   "display_name": "Python 3 (ipykernel)",
   "language": "python",
   "name": "python3"
  },
  "language_info": {
   "codemirror_mode": {
    "name": "ipython",
    "version": 3
   },
   "file_extension": ".py",
   "mimetype": "text/x-python",
   "name": "python",
   "nbconvert_exporter": "python",
   "pygments_lexer": "ipython3",
   "version": "3.12.4"
  }
 },
 "nbformat": 4,
 "nbformat_minor": 5
}
